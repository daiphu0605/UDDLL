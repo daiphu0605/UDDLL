{
  "nbformat": 4,
  "nbformat_minor": 0,
  "metadata": {
    "colab": {
      "name": "Community detection.ipynb",
      "provenance": [],
      "collapsed_sections": []
    },
    "kernelspec": {
      "name": "python3",
      "display_name": "Python 3"
    },
    "language_info": {
      "name": "python"
    }
  },
  "cells": [
    {
      "cell_type": "code",
      "source": [
        "! pip install pyspark --quiet"
      ],
      "metadata": {
        "colab": {
          "base_uri": "https://localhost:8080/"
        },
        "id": "nxqHht5qdbmK",
        "outputId": "99ea083f-4dac-443e-a1c1-fd9717b88cb7"
      },
      "execution_count": null,
      "outputs": [
        {
          "output_type": "stream",
          "name": "stdout",
          "text": [
            "\u001b[K     |████████████████████████████████| 281.4 MB 35 kB/s \n",
            "\u001b[K     |████████████████████████████████| 198 kB 59.0 MB/s \n",
            "\u001b[?25h  Building wheel for pyspark (setup.py) ... \u001b[?25l\u001b[?25hdone\n"
          ]
        }
      ]
    },
    {
      "cell_type": "code",
      "source": [
        "! wget https://github.com/trangtong/ub_sample_data/raw/main/ub_sample_data.csv"
      ],
      "metadata": {
        "colab": {
          "base_uri": "https://localhost:8080/"
        },
        "id": "1gjU3Ub0osqs",
        "outputId": "52b2df9d-76aa-4583-8baf-6c4284763c1a"
      },
      "execution_count": null,
      "outputs": [
        {
          "output_type": "stream",
          "name": "stdout",
          "text": [
            "--2022-06-15 07:47:50--  https://github.com/trangtong/ub_sample_data/raw/main/ub_sample_data.csv\n",
            "Resolving github.com (github.com)... 192.30.255.112\n",
            "Connecting to github.com (github.com)|192.30.255.112|:443... connected.\n",
            "HTTP request sent, awaiting response... 302 Found\n",
            "Location: https://raw.githubusercontent.com/trangtong/ub_sample_data/main/ub_sample_data.csv [following]\n",
            "--2022-06-15 07:47:50--  https://raw.githubusercontent.com/trangtong/ub_sample_data/main/ub_sample_data.csv\n",
            "Resolving raw.githubusercontent.com (raw.githubusercontent.com)... 185.199.110.133, 185.199.108.133, 185.199.111.133, ...\n",
            "Connecting to raw.githubusercontent.com (raw.githubusercontent.com)|185.199.110.133|:443... connected.\n",
            "HTTP request sent, awaiting response... 200 OK\n",
            "Length: 1777828 (1.7M) [text/plain]\n",
            "Saving to: ‘ub_sample_data.csv’\n",
            "\n",
            "ub_sample_data.csv  100%[===================>]   1.70M  --.-KB/s    in 0.03s   \n",
            "\n",
            "2022-06-15 07:47:50 (55.3 MB/s) - ‘ub_sample_data.csv’ saved [1777828/1777828]\n",
            "\n"
          ]
        }
      ]
    },
    {
      "cell_type": "markdown",
      "source": [
        "#Xử lý dữ liệu Raw"
      ],
      "metadata": {
        "id": "nZ18eC4u53cx"
      }
    },
    {
      "cell_type": "code",
      "source": [
        "import pyspark\n",
        "import itertools"
      ],
      "metadata": {
        "id": "qXtcg-nRo2n6"
      },
      "execution_count": null,
      "outputs": []
    },
    {
      "cell_type": "code",
      "source": [
        "sc = pyspark.SparkContext()\n",
        "sql_cont=pyspark.sql.SQLContext(sc)"
      ],
      "metadata": {
        "colab": {
          "base_uri": "https://localhost:8080/"
        },
        "id": "AuYQAydxovSf",
        "outputId": "756e9ca5-4b1f-4c04-b9e4-ad392d355599"
      },
      "execution_count": null,
      "outputs": [
        {
          "output_type": "stream",
          "name": "stderr",
          "text": [
            "/usr/local/lib/python3.7/dist-packages/pyspark/sql/context.py:79: FutureWarning: Deprecated in 3.0.0. Use SparkSession.builder.getOrCreate() instead.\n",
            "  FutureWarning\n"
          ]
        }
      ]
    },
    {
      "cell_type": "code",
      "source": [
        "rdd= sc.textFile('/content/ub_sample_data.csv')\n",
        "header = rdd.first()\n"
      ],
      "metadata": {
        "id": "7pY5o3o5pTHg"
      },
      "execution_count": null,
      "outputs": []
    },
    {
      "cell_type": "code",
      "source": [
        "threshold = 7\n",
        "df=rdd.filter(lambda x:x!= header).map(lambda x:x.split(',')).groupByKey().mapValues(set).filter(lambda x:len(x[1])>=threshold).cache()\n",
        "df2=df.collectAsMap()\n",
        "pairs=[]\n",
        "\n",
        "for i in itertools.combinations(df.map(lambda x:x[0]).collect(),2):\n",
        "    intersection_pairs=set(df2[i[0]]).intersection(set(df2[i[1]]))\n",
        "    if len(intersection_pairs)>=threshold:\n",
        "        #pairs.extend([(i[0],i[1]),(i[1],i[0])])\n",
        "        pairs.extend([(i[0],i[1])])"
      ],
      "metadata": {
        "id": "sGkbvgQtp3q3"
      },
      "execution_count": null,
      "outputs": []
    },
    {
      "cell_type": "code",
      "source": [
        "p=sc.parallelize(pairs).flatMap(lambda x:x).distinct().map(lambda x:(x,1)).collect()\n",
        "vertices=sql_cont.createDataFrame(p,[\"id\",\"djhkg\"])\n",
        "edges=sql_cont.createDataFrame(pairs,[\"src\",\"dst\"])"
      ],
      "metadata": {
        "id": "XMnHPPz9p0fN"
      },
      "execution_count": null,
      "outputs": []
    },
    {
      "cell_type": "markdown",
      "source": [
        "#Dựng đồ thị Bằng NetworkX"
      ],
      "metadata": {
        "id": "0rHYOdYp6FJT"
      }
    },
    {
      "cell_type": "code",
      "source": [
        "import networkx as nx\n",
        "graph = nx.from_pandas_edgelist(edges.toPandas(), 'src', 'dst')"
      ],
      "metadata": {
        "id": "yf3liwNcalL1"
      },
      "execution_count": null,
      "outputs": []
    },
    {
      "cell_type": "code",
      "source": [
        "nx.draw(graph)"
      ],
      "metadata": {
        "colab": {
          "base_uri": "https://localhost:8080/",
          "height": 319
        },
        "id": "EbTyRPhsmD0j",
        "outputId": "42611364-c3ed-4d77-fbc7-5636bad9a612"
      },
      "execution_count": null,
      "outputs": [
        {
          "output_type": "display_data",
          "data": {
            "text/plain": [
              "<Figure size 432x288 with 1 Axes>"
            ],
            "image/png": "[encoded data removed]"
          },
          "metadata": {}
        }
      ]
    },
    {
      "cell_type": "markdown",
      "source": [
        "#Between Calculation"
      ],
      "metadata": {
        "id": "V79r5yQW6KPh"
      }
    },
    {
      "cell_type": "code",
      "source": [
        "with open(\"between.txt\", 'w') as output:\n",
        "  for test in nx.edge_betweenness_centrality(graph).items():\n",
        "    out = list(test)\n",
        "    print(*out, file=output)\n",
        "  output.close()"
      ],
      "metadata": {
        "id": "0OdTXRUpRyJG"
      },
      "execution_count": null,
      "outputs": []
    },
    {
      "cell_type": "markdown",
      "source": [
        "#Community Detection bằng thuật toán Girvan Newman"
      ],
      "metadata": {
        "id": "pfVHBESX6hWx"
      }
    },
    {
      "cell_type": "code",
      "source": [
        "from random import random\n",
        "def most_central_edge(G):\n",
        "    centrality = nx.edge_betweenness_centrality(G)\n",
        "    max_cent = max(centrality.values())\n",
        "    centrality = {e: c / max_cent for e, c in centrality.items()}\n",
        "    centrality = {e: c + random() for e, c in centrality.items()}\n",
        "    return max(centrality, key=centrality.get)"
      ],
      "metadata": {
        "id": "cfCa4yQgEZ0K"
      },
      "execution_count": null,
      "outputs": []
    },
    {
      "cell_type": "code",
      "source": [
        "copy = graph\n",
        "community = nx.algorithms.community.girvan_newman(copy, most_central_edge)\n",
        "communities = tuple(sorted(com) for com in next(community))\n"
      ],
      "metadata": {
        "id": "a_sla4UY70hq"
      },
      "execution_count": null,
      "outputs": []
    },
    {
      "cell_type": "code",
      "source": [
        "#Số lượng community\n",
        "len(communities)"
      ],
      "metadata": {
        "colab": {
          "base_uri": "https://localhost:8080/"
        },
        "id": "69dabEZKAnXs",
        "outputId": "a108cb51-0c59-4f4b-a803-9230643e3fb9"
      },
      "execution_count": null,
      "outputs": [
        {
          "output_type": "execute_result",
          "data": {
            "text/plain": [
              "14"
            ]
          },
          "metadata": {},
          "execution_count": 18
        }
      ]
    },
    {
      "cell_type": "code",
      "source": [
        "with open(\"community.txt\",'w') as outfile:\n",
        "  for c in communities:\n",
        "    print(c, file=outfile)\n",
        "  outfile.close()"
      ],
      "metadata": {
        "id": "Ev2aj0FGQUpB"
      },
      "execution_count": null,
      "outputs": []
    },
    {
      "cell_type": "code",
      "source": [
        "# modularity\n",
        "nx.community.modularity(copy, communities)"
      ],
      "metadata": {
        "colab": {
          "base_uri": "https://localhost:8080/"
        },
        "id": "clI_d7wqPKxx",
        "outputId": "dfd1d4e8-a13d-417b-b167-6fdf2d68ef58"
      },
      "execution_count": null,
      "outputs": [
        {
          "output_type": "execute_result",
          "data": {
            "text/plain": [
              "0.5235076853599138"
            ]
          },
          "metadata": {},
          "execution_count": 16
        }
      ]
    },
    {
      "cell_type": "code",
      "source": [
        "nx.draw(copy)"
      ],
      "metadata": {
        "colab": {
          "base_uri": "https://localhost:8080/",
          "height": 319
        },
        "id": "s1DUWlkkyNRc",
        "outputId": "05784ff9-dd7a-41c1-a12d-87d9787b7294"
      },
      "execution_count": null,
      "outputs": [
        {
          "output_type": "display_data",
          "data": {
            "text/plain": [
              "<Figure size 432x288 with 1 Axes>"
            ],
            "image/png": "[encoded data removed]"
          },
          "metadata": {}
        }
      ]
    },
    {
      "cell_type": "markdown",
      "source": [
        "#Tài liệu tham khảo"
      ],
      "metadata": {
        "id": "B6y0znEhGm04"
      }
    },
    {
      "cell_type": "markdown",
      "source": [
        "https://networkx.org/documentation/stable/reference/algorithms/generated/networkx.algorithms.community.centrality.girvan_newman.html - networkx Girvan Newman"
      ],
      "metadata": {
        "id": "tY3g1YH6moTH"
      }
    }
  ]
}