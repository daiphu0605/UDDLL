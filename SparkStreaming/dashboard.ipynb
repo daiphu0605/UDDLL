{
 "cells": [
  {
   "cell_type": "code",
   "execution_count": 8,
   "metadata": {},
   "outputs": [],
   "source": [
    "from jupyter_dash import JupyterDash\n",
    "from dash import dcc\n",
    "from dash import html\n",
    "from dash.dependencies import (Input, Output)\n",
    "import plotly.express as px\n",
    "import json\n",
    "import pandas as pd\n",
    "import time\n"
   ]
  },
  {
   "cell_type": "code",
   "execution_count": 9,
   "metadata": {},
   "outputs": [],
   "source": [
    "app = JupyterDash(__name__)"
   ]
  },
  {
   "cell_type": "code",
   "execution_count": 10,
   "metadata": {},
   "outputs": [],
   "source": [
    "app.layout = html.Div([\n",
    "    dcc.Graph(id='demo-live'),\n",
    "    ## for every 2 secs the layout updates\n",
    "    dcc.Interval(id='output-update', interval=2*1000)\n",
    "])"
   ]
  },
  {
   "cell_type": "code",
   "execution_count": 11,
   "metadata": {},
   "outputs": [],
   "source": [
    "def LoadDataFrame(filename):\n",
    "    file = open(filename)\n",
    "    li=[]\n",
    "    for f in file:\n",
    "        li.append(json.loads(f))\n",
    "    file.close()\n",
    "    return pd.DataFrame.from_records(li)"
   ]
  },
  {
   "cell_type": "code",
   "execution_count": 12,
   "metadata": {},
   "outputs": [],
   "source": [
    "@app.callback(\n",
    "    Output(component_id='demo-live', component_property='figure'),\n",
    "    [Input(component_id='output-update', component_property='n_intervals')]\n",
    ")\n",
    "def get_live_updates(n_intervals):\n",
    "    #generate_streaming_data()\n",
    "    Data = LoadDataFrame(\"data.json\")\n",
    "    time.sleep(1)\n",
    "    total = Data['Sentiment'].count()\n",
    "    neg = Data[Data['Sentiment'] == 'Negative']['Sentiment'].count()/total\n",
    "    pos = Data[Data['Sentiment'] == 'Positive']['Sentiment'].count()/total\n",
    "    neu = Data[Data['Sentiment'] == 'Neutrual']['Sentiment'].count()/total\n",
    "    table = {\n",
    "        'Sentiment': ['Positive', 'Negative', 'Neutrual'],\n",
    "        'Rate': [pos, neg, neu]\n",
    "    }\n",
    "    df = pd.DataFrame(data = table)\n",
    "    fig = px.pie(df, values='Rate', names='Sentiment')\n",
    "\n",
    "    return fig"
   ]
  },
  {
   "cell_type": "code",
   "execution_count": 13,
   "metadata": {},
   "outputs": [
    {
     "name": "stdout",
     "output_type": "stream",
     "text": [
      "Dash app running on http://127.0.0.1:8050/\n"
     ]
    }
   ],
   "source": [
    "app.run_server()"
   ]
  }
 ],
 "metadata": {
  "kernelspec": {
   "display_name": "Python 3.7.13 64-bit",
   "language": "python",
   "name": "python3"
  },
  "language_info": {
   "codemirror_mode": {
    "name": "ipython",
    "version": 3
   },
   "file_extension": ".py",
   "mimetype": "text/x-python",
   "name": "python",
   "nbconvert_exporter": "python",
   "pygments_lexer": "ipython3",
   "version": "3.7.13"
  },
  "orig_nbformat": 4,
  "vscode": {
   "interpreter": {
    "hash": "e5030792b3492f6b12d94f1f48beca3d8e59ec05fd59d0aaaa48e684281ed297"
   }
  }
 },
 "nbformat": 4,
 "nbformat_minor": 2
}
