{
 "cells": [
  {
   "cell_type": "code",
   "execution_count": 2,
   "metadata": {},
   "outputs": [
    {
     "name": "stdout",
     "output_type": "stream",
     "text": [
      "--2022-07-04 19:44:21--  https://downloads.apache.org/kafka/3.2.0/kafka_2.13-3.2.0.tgz\n",
      "Resolving downloads.apache.org (downloads.apache.org)... 135.181.214.104, 88.99.95.219, 2a01:4f8:10a:201a::2, ...\n",
      "Connecting to downloads.apache.org (downloads.apache.org)|135.181.214.104|:443... connected.\n",
      "HTTP request sent, awaiting response... 200 OK\n",
      "Length: 103955943 (99M) [application/x-gzip]\n",
      "Saving to: ‘kafka_2.13-3.2.0.tgz’\n",
      "\n",
      "kafka_2.13-3.2.0.tg 100%[===================>]  99.14M  1.93MB/s    in 49s     \n",
      "\n",
      "2022-07-04 19:45:11 (2.02 MB/s) - ‘kafka_2.13-3.2.0.tgz’ saved [103955943/103955943]\n",
      "\n"
     ]
    }
   ],
   "source": [
    "!wget https://downloads.apache.org/kafka/3.2.0/kafka_2.13-3.2.0.tgz\n",
    "!tar -xzf kafka_2.13-3.2.0.tgz"
   ]
  },
  {
   "cell_type": "markdown",
   "metadata": {},
   "source": [
    "Khởi tạo Kafka broker, chạy trên terminal\n",
    "\n",
    "kafka_2.13-3.2.0/bin/zookeeper-server-start.sh -daemon kafka_2.13-3.2.0/config/zookeeper.properties\n",
    "\n",
    "kafka_2.13-3.2.0/bin/kafka-server-start.sh -daemon kafka_2.13-3.2.0/config/server.properties"
   ]
  },
  {
   "cell_type": "code",
   "execution_count": 15,
   "metadata": {},
   "outputs": [
    {
     "name": "stdout",
     "output_type": "stream",
     "text": [
      "Error while executing topic command : Topic 'twitter' already exists.\n",
      "[2022-07-05 23:18:57,205] ERROR org.apache.kafka.common.errors.TopicExistsException: Topic 'twitter' already exists.\n",
      " (kafka.admin.TopicCommand$)\n"
     ]
    }
   ],
   "source": [
    "!./kafka_2.13-3.2.0/bin/kafka-topics.sh --create --topic twitter --bootstrap-server localhost:9092 "
   ]
  },
  {
   "cell_type": "code",
   "execution_count": null,
   "metadata": {},
   "outputs": [],
   "source": [
    "#!./kafka_2.13-3.2.0/bin/kafka-topics.sh --delete --topic twitter --bootstrap-server localhost:9092 "
   ]
  },
  {
   "cell_type": "markdown",
   "metadata": {},
   "source": [
    "Lấy dữ liệu vào"
   ]
  },
  {
   "cell_type": "code",
   "execution_count": 16,
   "metadata": {},
   "outputs": [
    {
     "data": {
      "text/html": [
       "<div>\n",
       "<style scoped>\n",
       "    .dataframe tbody tr th:only-of-type {\n",
       "        vertical-align: middle;\n",
       "    }\n",
       "\n",
       "    .dataframe tbody tr th {\n",
       "        vertical-align: top;\n",
       "    }\n",
       "\n",
       "    .dataframe thead th {\n",
       "        text-align: right;\n",
       "    }\n",
       "</style>\n",
       "<table border=\"1\" class=\"dataframe\">\n",
       "  <thead>\n",
       "    <tr style=\"text-align: right;\">\n",
       "      <th></th>\n",
       "      <th>user_name</th>\n",
       "      <th>user_location</th>\n",
       "      <th>user_description</th>\n",
       "      <th>user_verified</th>\n",
       "      <th>date</th>\n",
       "      <th>text</th>\n",
       "      <th>hashtags</th>\n",
       "      <th>source</th>\n",
       "    </tr>\n",
       "  </thead>\n",
       "  <tbody>\n",
       "    <tr>\n",
       "      <th>0</th>\n",
       "      <td>Muhammad Turk</td>\n",
       "      <td>Turkey</td>\n",
       "      <td>ᕼOᖇᑕE IS TᕼE ᗯEᗩᑭOᑎ Oᖴ Tᑌᖇk\\n𝓈𝒽𝒶𝒽𝓇𝒶𝓃_𝓅𝒶𝓈𝒽𝒶_04\\...</td>\n",
       "      <td>False</td>\n",
       "      <td>2022-06-24 16:09:28+00:00</td>\n",
       "      <td>@elonmusk Fix my twitter problem elon musk whe...</td>\n",
       "      <td>NaN</td>\n",
       "      <td>Twitter for Android</td>\n",
       "    </tr>\n",
       "    <tr>\n",
       "      <th>1</th>\n",
       "      <td>Dr John Alfred ‘Treebus’ 🦕🦖 ft. HarkerToo 🐶❤️</td>\n",
       "      <td>New Tredegar, Wales</td>\n",
       "      <td>Ickle blind, diabetic rescue pup no one wanted...</td>\n",
       "      <td>False</td>\n",
       "      <td>2022-06-24 16:09:27+00:00</td>\n",
       "      <td>@PolachekRachael @elonmusk It berra be auntie ...</td>\n",
       "      <td>NaN</td>\n",
       "      <td>Twitter for iPhone</td>\n",
       "    </tr>\n",
       "    <tr>\n",
       "      <th>2</th>\n",
       "      <td>William T. Hodgkins</td>\n",
       "      <td>United States</td>\n",
       "      <td>I am a bot that tweets deep questions at Elon ...</td>\n",
       "      <td>False</td>\n",
       "      <td>2022-06-24 16:09:26+00:00</td>\n",
       "      <td>.@elonmusk, Is there inherent order in nature ...</td>\n",
       "      <td>NaN</td>\n",
       "      <td>WillyTHodgkins</td>\n",
       "    </tr>\n",
       "    <tr>\n",
       "      <th>3</th>\n",
       "      <td>Dating App Doofus</td>\n",
       "      <td>Massachusetts, USA</td>\n",
       "      <td>Boston</td>\n",
       "      <td>False</td>\n",
       "      <td>2022-06-24 16:09:25+00:00</td>\n",
       "      <td>@TheDailyEdge @elonmusk @ruthbenghiat I hope E...</td>\n",
       "      <td>NaN</td>\n",
       "      <td>Twitter for Android</td>\n",
       "    </tr>\n",
       "    <tr>\n",
       "      <th>4</th>\n",
       "      <td>New Phone Who Dis?</td>\n",
       "      <td>NaN</td>\n",
       "      <td>Living life one captured mirrorless image at a...</td>\n",
       "      <td>False</td>\n",
       "      <td>2022-06-24 16:09:21+00:00</td>\n",
       "      <td>@WholeMarsBlog @DirtyTesLa @elonmusk Number 45...</td>\n",
       "      <td>NaN</td>\n",
       "      <td>Twitter for iPhone</td>\n",
       "    </tr>\n",
       "  </tbody>\n",
       "</table>\n",
       "</div>"
      ],
      "text/plain": [
       "                                       user_name        user_location  \\\n",
       "0                                  Muhammad Turk               Turkey   \n",
       "1  Dr John Alfred ‘Treebus’ 🦕🦖 ft. HarkerToo 🐶❤️  New Tredegar, Wales   \n",
       "2                            William T. Hodgkins        United States   \n",
       "3                              Dating App Doofus   Massachusetts, USA   \n",
       "4                             New Phone Who Dis?                  NaN   \n",
       "\n",
       "                                    user_description  user_verified  \\\n",
       "0  ᕼOᖇᑕE IS TᕼE ᗯEᗩᑭOᑎ Oᖴ Tᑌᖇk\\n𝓈𝒽𝒶𝒽𝓇𝒶𝓃_𝓅𝒶𝓈𝒽𝒶_04\\...          False   \n",
       "1  Ickle blind, diabetic rescue pup no one wanted...          False   \n",
       "2  I am a bot that tweets deep questions at Elon ...          False   \n",
       "3                                             Boston          False   \n",
       "4  Living life one captured mirrorless image at a...          False   \n",
       "\n",
       "                        date  \\\n",
       "0  2022-06-24 16:09:28+00:00   \n",
       "1  2022-06-24 16:09:27+00:00   \n",
       "2  2022-06-24 16:09:26+00:00   \n",
       "3  2022-06-24 16:09:25+00:00   \n",
       "4  2022-06-24 16:09:21+00:00   \n",
       "\n",
       "                                                text hashtags  \\\n",
       "0  @elonmusk Fix my twitter problem elon musk whe...      NaN   \n",
       "1  @PolachekRachael @elonmusk It berra be auntie ...      NaN   \n",
       "2  .@elonmusk, Is there inherent order in nature ...      NaN   \n",
       "3  @TheDailyEdge @elonmusk @ruthbenghiat I hope E...      NaN   \n",
       "4  @WholeMarsBlog @DirtyTesLa @elonmusk Number 45...      NaN   \n",
       "\n",
       "                source  \n",
       "0  Twitter for Android  \n",
       "1   Twitter for iPhone  \n",
       "2       WillyTHodgkins  \n",
       "3  Twitter for Android  \n",
       "4   Twitter for iPhone  "
      ]
     },
     "execution_count": 16,
     "metadata": {},
     "output_type": "execute_result"
    }
   ],
   "source": [
    "import pandas as pd\n",
    "Data = pd.read_csv(\"out.csv\")\n",
    "Data.head()"
   ]
  },
  {
   "cell_type": "markdown",
   "metadata": {},
   "source": [
    "Producer"
   ]
  },
  {
   "cell_type": "code",
   "execution_count": 10,
   "metadata": {},
   "outputs": [],
   "source": [
    "from kafka import KafkaProducer\n",
    "import json\n",
    "import time\n",
    "def Proceducer(bootstrap_server, data, topic):\n",
    "    producer = KafkaProducer(bootstrap_servers=bootstrap_server,\n",
    "                         value_serializer=lambda x: json.dumps(x).encode('utf-8'))\n",
    "    #producer.send(topic, data.to_dict())\n",
    "    i = 0\n",
    "    while (i < 3076):\n",
    "        producer.send(topic, data.iloc[i].to_dict())\n",
    "        time.sleep(0.01)\n",
    "        i = i + 1\n"
   ]
  },
  {
   "cell_type": "code",
   "execution_count": 21,
   "metadata": {},
   "outputs": [],
   "source": [
    "Proceducer(['localhost:9092'],Data,'twitter')"
   ]
  },
  {
   "cell_type": "code",
   "execution_count": 18,
   "metadata": {},
   "outputs": [
    {
     "data": {
      "text/plain": [
       "24608"
      ]
     },
     "execution_count": 18,
     "metadata": {},
     "output_type": "execute_result"
    }
   ],
   "source": [
    "Data.size"
   ]
  }
 ],
 "metadata": {
  "kernelspec": {
   "display_name": "Python 3.7.5 64-bit",
   "language": "python",
   "name": "python3"
  },
  "language_info": {
   "codemirror_mode": {
    "name": "ipython",
    "version": 3
   },
   "file_extension": ".py",
   "mimetype": "text/x-python",
   "name": "python",
   "nbconvert_exporter": "python",
   "pygments_lexer": "ipython3",
   "version": "3.7.13"
  },
  "orig_nbformat": 4,
  "vscode": {
   "interpreter": {
    "hash": "fd69f43f58546b570e94fd7eba7b65e6bcc7a5bbc4eab0408017d18902915d69"
   }
  }
 },
 "nbformat": 4,
 "nbformat_minor": 2
}
